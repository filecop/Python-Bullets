{
  "nbformat": 4,
  "nbformat_minor": 0,
  "metadata": {
    "colab": {
      "provenance": [],
      "authorship_tag": "ABX9TyOVxf/EKF33Dyfc3PQvAnax",
      "include_colab_link": true
    },
    "kernelspec": {
      "name": "python3",
      "display_name": "Python 3"
    },
    "language_info": {
      "name": "python"
    }
  },
  "cells": [
    {
      "cell_type": "markdown",
      "metadata": {
        "id": "view-in-github",
        "colab_type": "text"
      },
      "source": [
        "<a href=\"https://colab.research.google.com/github/filecop/Python-Bullets/blob/main/C7_Functions.ipynb\" target=\"_parent\"><img src=\"https://colab.research.google.com/assets/colab-badge.svg\" alt=\"Open In Colab\"/></a>"
      ]
    },
    {
      "cell_type": "markdown",
      "source": [
        "# FUNCTIONS"
      ],
      "metadata": {
        "id": "DhdYVQW89p6S"
      }
    },
    {
      "cell_type": "markdown",
      "source": [
        "* A function in Python, such as len,\n",
        "may or may not have a return value\n",
        "\n",
        "* The set of parameters is called the function interface\n",
        "\n",
        "* Concrete instances passed through an interface are called\n",
        "arguments. A parameter, on the other hand, denotes a placeholder\n",
        "for arguments\n",
        "\n",
        "* define parameters that may be passed exclusively as\n",
        "keyword parameters. Such keyword-only parameters are written\n",
        "after the parameter in the function definition, which receives any\n",
        "number of positional arguments\n",
        "\n",
        "*"
      ],
      "metadata": {
        "id": "8snk_HnX9vpv"
      }
    },
    {
      "cell_type": "code",
      "source": [
        "def f(a, b, *c, d, e):\n",
        "  print(a, b, c, d, e)\n",
        "# Here d and e are keyword-only parameters(not optional as d and e are not given default value)\n",
        "# '''\n",
        "# In this case, the function interface consists of the two positional\n",
        "# parameters a and b, the option for other positional arguments *c, and\n",
        "# the two keyword-only parameters d and e. There is no way to pass\n",
        "# the d and e parameters except as keyword arguments\n",
        "# '''"
      ],
      "metadata": {
        "id": "6yM1Wu5S-gpx"
      },
      "execution_count": 15,
      "outputs": []
    },
    {
      "cell_type": "code",
      "source": [
        "def f(a, b, *c, d=4, e=5):\n",
        "  print(a, b, c, d, e)"
      ],
      "metadata": {
        "id": "wQjc0Cs_DRG9"
      },
      "execution_count": 17,
      "outputs": []
    },
    {
      "cell_type": "markdown",
      "source": [
        "* the passing of any number of keyword parameters is to\n",
        "be made possible, the ** notation necessary for this follows after the\n",
        "keyword-only parameters at the end of the function definition"
      ],
      "metadata": {
        "id": "9cF1dz4-DUbV"
      }
    },
    {
      "cell_type": "code",
      "source": [
        "def f(a, b, *args, d, e, **kwargs):\n",
        "  print(a, b, args, d, e, kwargs)"
      ],
      "metadata": {
        "id": "vjj8HDldDaRP"
      },
      "execution_count": 18,
      "outputs": []
    },
    {
      "cell_type": "markdown",
      "source": [
        "* In addition to keyword-only parameters, you can also mark\n",
        "positional-only parameters. This refers to function parameters that\n",
        "may only be passed as a positional argument and not as a keyword\n",
        "argument.\n",
        "Positional-only parameters must be placed at the very beginning of\n",
        "the parameter list of a function and are separated from the remaining\n",
        "parameters by a forward slash (/)"
      ],
      "metadata": {
        "id": "NuoZZXn4DdmI"
      }
    },
    {
      "cell_type": "code",
      "source": [
        "def f(a, b, /, c, d):\n",
        "  print(a, b, c, d)"
      ],
      "metadata": {
        "id": "yh0IIPIRDzHC"
      },
      "execution_count": 19,
      "outputs": []
    },
    {
      "cell_type": "code",
      "source": [
        "#Range returns Range object and not a list . We can say it returns an iterable object.\n",
        "l = range(0,10)\n",
        "print(l)"
      ],
      "metadata": {
        "colab": {
          "base_uri": "https://localhost:8080/"
        },
        "id": "PKS4fd71D3Rc",
        "outputId": "a52e8971-1b27-4657-ef8f-a66d59b0c694"
      },
      "execution_count": 24,
      "outputs": [
        {
          "output_type": "stream",
          "name": "stdout",
          "text": [
            "range(0, 10)\n"
          ]
        }
      ]
    },
    {
      "cell_type": "markdown",
      "source": [
        "* Unpacking an iterable object is done by passing the object to the\n",
        "function preceded by an asterisk (*).\n",
        "\n",
        "For example :  my_sum(*range(101))\n",
        "Here my_sum will get each element of the range as an argument and will be added."
      ],
      "metadata": {
        "id": "b1iZzo3uEsFO"
      }
    },
    {
      "cell_type": "markdown",
      "source": [
        "* the techniques for unpacking\n",
        "parameter lists can be combined, as shown in the following example:\n",
        "```\n",
        ">>> my_sum(1, *(2,3), **{\"d\": 4})\n",
        "```"
      ],
      "metadata": {
        "id": "zNNBlIRDFSMl"
      }
    },
    {
      "cell_type": "markdown",
      "source": [
        "* it’s possible to unpack multiple sequences or\n",
        "dictionaries in the same function call\n",
        "```\n",
        "my_sum(*(1,2), **{\"c\": 3}, **{\"d\": 4})\n",
        "```\n"
      ],
      "metadata": {
        "id": "51BxTYPHlsbc"
      }
    },
    {
      "cell_type": "code",
      "source": [
        "#use packing or unpacking when creating sequential data types, sets, and dictionaries\n",
        "A = [1,2,3]\n",
        "B = [3,4,5]\n",
        "[1, *A, *B]\n"
      ],
      "metadata": {
        "colab": {
          "base_uri": "https://localhost:8080/"
        },
        "id": "xnBbNrjyl0ql",
        "outputId": "f5df7a2f-f9be-49dc-a051-696d7a836bd2"
      },
      "execution_count": 25,
      "outputs": [
        {
          "output_type": "execute_result",
          "data": {
            "text/plain": [
              "[1, 1, 2, 3, 3, 4, 5]"
            ]
          },
          "metadata": {},
          "execution_count": 25
        }
      ]
    },
    {
      "cell_type": "markdown",
      "source": [
        "* If the same key is passed multiple times in a dictionary, later\n",
        "occurrences overwrite previous occurrences\n",
        "\n"
      ],
      "metadata": {
        "id": "HpYEQhZdmHsL"
      }
    },
    {
      "cell_type": "code",
      "source": [
        "{\"a\": 10, **{\"a\": 11, \"b\": 12}, \"a\": 13, **{\"b\": 14}}\n",
        "#be careful when using unpacking for unordered data types"
      ],
      "metadata": {
        "colab": {
          "base_uri": "https://localhost:8080/"
        },
        "id": "zQ_57XV9mLjx",
        "outputId": "eae2e6cd-e3b2-4fe3-d38c-a591b56e2dc6"
      },
      "execution_count": 26,
      "outputs": [
        {
          "output_type": "execute_result",
          "data": {
            "text/plain": [
              "{'a': 13, 'b': 14}"
            ]
          },
          "metadata": {},
          "execution_count": 26
        }
      ]
    },
    {
      "cell_type": "markdown",
      "source": [
        "* In Python, a function call doesn’t create any copies of the instances\n",
        "passed as arguments, but works internally in the function with\n",
        "references to the arguments. This method of parameter passing is\n",
        "called call by reference. This is in contrast to the call by value\n",
        "principle, which works on copies of the arguments within the\n",
        "function. The latter variant, which is supported by many other\n",
        "programming languages, is free of side effects, but slower due to the\n",
        "copy process"
      ],
      "metadata": {
        "id": "gurq01Lzmd5h"
      }
    },
    {
      "cell_type": "markdown",
      "source": [
        "* In the local namespace of a function body, read access to a global\n",
        "reference is possible at any time as long as no local reference of the\n",
        "same name exists"
      ],
      "metadata": {
        "id": "MVG1FHZ8mzXn"
      }
    },
    {
      "cell_type": "markdown",
      "source": [
        "* A function can still assign instances to global references using the\n",
        "global statement. To do that, the global keyword must be written in\n",
        "the function body, followed by one or more names that should be\n",
        "treated as global references\n",
        "```\n",
        ">>> def f():\n",
        "... global s, t\n",
        "... s = \"local string\"\n",
        "... t = \"other local string\"\n",
        "... print(s, \"/\", t)\n",
        "```"
      ],
      "metadata": {
        "id": "XUz22bJbtBBc"
      }
    },
    {
      "cell_type": "markdown",
      "source": [
        "* You can also define local functions. These are functions created in\n",
        "the local namespace of another function and are only valid there like\n",
        "any other reference in the local namespace\n"
      ],
      "metadata": {
        "id": "rc5wL7w5tmg0"
      }
    },
    {
      "cell_type": "markdown",
      "source": [
        "* The global keyword can’t help us here because it only provides\n",
        "access to the outermost, global namespace. But for this purpose,\n",
        "there is the nonlocal keyword.\n",
        "```\n",
        "def function1():\n",
        "... def function2():\n",
        "... nonlocal res\n",
        "... res += 1\n",
        "... res = 1\n",
        "... function2()\n",
        "... print(res)\n",
        "...\n",
        ">>> function1()\n",
        "2\n",
        "```"
      ],
      "metadata": {
        "id": "eDu70MrYty8T"
      }
    },
    {
      "cell_type": "markdown",
      "source": [
        "```\n",
        ">>> name = \"Peter\"\n",
        ">>> def hello():\n",
        "... print(\"Hello,\", name)\n",
        "... name = \"Johannes\"\n",
        "... print(\"Hello,\", name)\n",
        "...\n",
        ">>> hello()\n",
        "Traceback (most recent call last):\n",
        " ...\n",
        "UnboundLocalError: cannot access local variable 'name' where it is not associated\n",
        "with a value\n",
        "```\n",
        "\n",
        "* You can see that the first access to the name variable in this case fails\n",
        "with an UnboundLocalError. The reason is that the name identifier in\n",
        "the local namespace of the hello function is already reserved for a\n",
        "local variable at the time of compiling the function. This reservation\n",
        "won’t change during the runtime of the function. So even though we\n",
        "haven't created the local variable name yet, its name is already\n",
        "reserved for a local variable at the time of the first print call\n"
      ],
      "metadata": {
        "id": "iuHxHRgAwpAe"
      }
    },
    {
      "cell_type": "markdown",
      "source": [
        "### ANONYMOUS FUNCTIONS"
      ],
      "metadata": {
        "id": "xg95HJeywuOY"
      }
    },
    {
      "cell_type": "markdown",
      "source": [
        "* Using the lambda keyword, a small anonymous function can be\n",
        "created instead\n",
        "\n",
        "```\n",
        ">>> s = lambda x: -x\n",
        "```\n",
        "\n",
        "\n",
        "* The lambda keyword is followed by a parameter list and a colon. The\n",
        "colon must be followed by any arithmetic or logical expression\n",
        "whose result is returned by the anonymous function"
      ],
      "metadata": {
        "id": "UJ75KGZ8w0QO"
      }
    },
    {
      "cell_type": "markdown",
      "source": [
        "* A lambda expression results in a function object and can be called as\n",
        "usual: s(10)"
      ],
      "metadata": {
        "id": "ubosW94TxbyV"
      }
    },
    {
      "cell_type": "markdown",
      "source": [
        "* Let's look at a slightly more complex example of an anonymous\n",
        "function with three parameters:\n",
        "```\n",
        ">>> f = lambda x, y, z: (x - y) * z\n",
        "```"
      ],
      "metadata": {
        "id": "OoUVMDFnxr-X"
      }
    },
    {
      "cell_type": "markdown",
      "source": [
        "* Anonymous functions can be called without referencing them\n",
        "previously. To do this, the lambda expression must be enclosed in\n",
        "parentheses\n",
        "\n",
        "```\n",
        ">>> (lambda x, y, z: (x - y) * z)(1, 2, 3)\n",
        "\n",
        "```"
      ],
      "metadata": {
        "id": "M0WIwXoxx-vP"
      }
    },
    {
      "cell_type": "code",
      "source": [
        "all((1,2,0))"
      ],
      "metadata": {
        "colab": {
          "base_uri": "https://localhost:8080/"
        },
        "id": "pKKSUPWVyHje",
        "outputId": "7fce26c9-ac26-4705-c954-c15760f3db6f"
      },
      "execution_count": 31,
      "outputs": [
        {
          "output_type": "execute_result",
          "data": {
            "text/plain": [
              "False"
            ]
          },
          "metadata": {},
          "execution_count": 31
        }
      ]
    },
    {
      "cell_type": "code",
      "source": [
        "filterobj = filter(lambda x: x%2 == 0, range(21))\n",
        "print(type(filterobj))\n",
        "print(list(filterobj))"
      ],
      "metadata": {
        "colab": {
          "base_uri": "https://localhost:8080/"
        },
        "id": "Cd6gVph_1SXO",
        "outputId": "006240e4-0230-4594-8ed3-cd3a9520be0f"
      },
      "execution_count": 34,
      "outputs": [
        {
          "output_type": "stream",
          "name": "stdout",
          "text": [
            "<class 'filter'>\n",
            "[0, 2, 4, 6, 8, 10, 12, 14, 16, 18, 20]\n"
          ]
        }
      ]
    },
    {
      "cell_type": "markdown",
      "source": [
        "* enumerate(iterable, [start])\n",
        "The enumerate function creates an iterable object that yields tuples of\n",
        "the form (i, iterable[i]) rather than over the elements of iterable\n",
        "alone. In this context, i is a loop counter that starts at start (0 by\n",
        "default). These tuple structures become apparent when the result of\n",
        "an enumerate call is converted to a list\n",
        "```\n",
        "list(enumerate([\"a\", \"b\", \"c\", \"d\"]))\n",
        "```\n"
      ],
      "metadata": {
        "id": "XKASj3Nl1YHh"
      }
    },
    {
      "cell_type": "code",
      "source": [
        "k = enumerate([2,3,4],1)\n",
        "print(k)\n",
        "print(list(k))"
      ],
      "metadata": {
        "colab": {
          "base_uri": "https://localhost:8080/"
        },
        "id": "4WBi3HOb1oWV",
        "outputId": "baa38790-f786-47c1-d1b5-554317a64461"
      },
      "execution_count": 36,
      "outputs": [
        {
          "output_type": "stream",
          "name": "stdout",
          "text": [
            "<enumerate object at 0x7cae50a45140>\n",
            "[(1, 2), (2, 3), (3, 4)]\n"
          ]
        }
      ]
    },
    {
      "cell_type": "markdown",
      "source": [
        "* eval(expression, [globals, locals])\n",
        "The function eval evaluates the expression Python expression as a\n",
        "string and returns its result:\n"
      ],
      "metadata": {
        "id": "zMFk595y14Wx"
      }
    },
    {
      "cell_type": "markdown",
      "source": [
        "* exec(object, [globals, locals])\n",
        "The exec function executes Python code that’s available as a string"
      ],
      "metadata": {
        "id": "M6zQlmPH2NAM"
      }
    },
    {
      "cell_type": "markdown",
      "source": [
        "* filter(function, iterable)\n",
        "The filter function expects a function object as its first parameter\n",
        "and an iterable object as its second parameter. The function object\n",
        "passed for function must expect a parameter and return a Boolean\n",
        "value.\n",
        "The filter function calls the passed function for each element of the\n",
        "iterable iterable object and creates an iterable object that iterates\n",
        "through all elements of list for which function returned True. This\n",
        "will be explained by the following example, where filter is used to\n",
        "filter out the odd numbers from a list of integers\n",
        "```\n",
        "filterobj = filter(lambda x: x%2 == 0, range(21))\n",
        "\n",
        "```"
      ],
      "metadata": {
        "id": "BB2cgWUG2RbF"
      }
    },
    {
      "cell_type": "markdown",
      "source": [
        "* map(function, [*iterable]) :\n",
        "This function expects a function object as first parameter and an\n",
        "iterable object as second parameter. Optionally, further iterable\n",
        "objects can be passed, but they must have the same length as the\n",
        "first one. The passed function must expect as many parameters as\n",
        "iterable objects have been passed."
      ],
      "metadata": {
        "id": "le41-iw43SR-"
      }
    },
    {
      "cell_type": "code",
      "source": [],
      "metadata": {
        "id": "KhosW-Ir4C8w"
      },
      "execution_count": null,
      "outputs": []
    }
  ]
}